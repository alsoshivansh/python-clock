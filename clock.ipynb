{
 "cells": [
  {
   "cell_type": "code",
   "execution_count": 5,
   "id": "57542e2e",
   "metadata": {},
   "outputs": [],
   "source": [
    "import tkinter as tk\n",
    "from time import strftime\n",
    "\n",
    "# Create the main window\n",
    "root = tk.Tk()\n",
    "root.title(\"Digital Clock\")\n",
    "\n",
    "# Function to update the time\n",
    "def time():\n",
    "    string = strftime('%H:%M:%S %p')  # Format the time as HH:MM:SS AM/PM\n",
    "    label.config(text=string)\n",
    "    label.after(1000, time)  # Update every 1000ms (1 second)\n",
    "\n",
    "# Create a label to display the time\n",
    "label = tk.Label(root, font=('calibri', 40, 'bold'), background='black', foreground='white')\n",
    "label.pack(anchor='center')\n",
    "\n",
    "time()  # Call the time function to display the initial time\n",
    "\n",
    "root.mainloop()"
   ]
  },
  {
   "cell_type": "code",
   "execution_count": 4,
   "id": "79216469",
   "metadata": {},
   "outputs": [],
   "source": [
    "import tkinter as tk\n",
    "from time import strftime\n",
    "\n",
    "# Create the main window\n",
    "root = tk.Tk()\n",
    "root.title(\"Digital Clock\")\n",
    "\n",
    "# Function to update the time\n",
    "def time():\n",
    "    string = strftime('%I:%M:%S %p')  # Format the time as hh:mm:ss AM/PM\n",
    "    label.config(text=string)\n",
    "    label.after(1000, time)  # Update every 1000ms (1 second)\n",
    "\n",
    "# Create a label to display the time with styling\n",
    "label = tk.Label(root, font=('calibri', 80, 'bold'), background='black', foreground='white', padx=20, pady=20)\n",
    "label.pack(anchor='center')\n",
    "\n",
    "time()  # Call the time function to display the initial time\n",
    "\n",
    "root.mainloop()"
   ]
  },
  {
   "cell_type": "code",
   "execution_count": 3,
   "id": "7cd8482e",
   "metadata": {},
   "outputs": [],
   "source": [
    "import tkinter as tk\n",
    "from time import strftime\n",
    "\n",
    "# Create the main window\n",
    "root = tk.Tk()\n",
    "root.title(\"Modern Digital Clock\")\n",
    "\n",
    "# Function to update the time\n",
    "def time():\n",
    "    string = strftime('%I:%M %p')  # Format the time as hh:mm AM/PM\n",
    "    label.config(text=string)\n",
    "    label.after(1000, time)  # Update every 1000ms (1 second)\n",
    "\n",
    "# Create a label to display the time with modern styling\n",
    "label = tk.Label(root, font=('Helvetica', 80), background='black', foreground='white', padx=20, pady=20)\n",
    "label.pack(anchor='center')\n",
    "\n",
    "time()  # Call the time function to display the initial time\n",
    "\n",
    "root.mainloop()\n"
   ]
  },
  {
   "cell_type": "code",
   "execution_count": null,
   "id": "242b1e92",
   "metadata": {},
   "outputs": [],
   "source": []
  }
 ],
 "metadata": {
  "kernelspec": {
   "display_name": "Python 3 (ipykernel)",
   "language": "python",
   "name": "python3"
  },
  "language_info": {
   "codemirror_mode": {
    "name": "ipython",
    "version": 3
   },
   "file_extension": ".py",
   "mimetype": "text/x-python",
   "name": "python",
   "nbconvert_exporter": "python",
   "pygments_lexer": "ipython3",
   "version": "3.11.4"
  }
 },
 "nbformat": 4,
 "nbformat_minor": 5
}
